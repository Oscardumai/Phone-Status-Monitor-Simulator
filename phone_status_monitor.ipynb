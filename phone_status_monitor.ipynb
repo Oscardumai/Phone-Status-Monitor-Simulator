{
 "cells": [
  {
   "cell_type": "markdown",
   "id": "87c6b8c8-37eb-4d9a-ae2f-15d34616fd67",
   "metadata": {},
   "source": [
    "# 📱 Phone Status Monitor Simulator\n",
    "\n",
    "This project is a **Python Object-Oriented Programming (OOP) simulation** of a mobile phone that tracks battery level, account balance, and data usage. It demonstrates core OOP principles through practical implementation.\n",
    "\n",
    "## 🔑 Key Features\n",
    "\n",
    "- **Battery Management**: Charge by time or percentage with realistic charging simulation\n",
    "- **Balance Tracking**: Top up your account and use funds for calls or data purchases\n",
    "- **Data Management**: Purchase data bundles and monitor usage during browsing\n",
    "- **Call Simulation**: Make calls that consume both balance and battery\n",
    "- **Browsing Simulation**: Browse with different usage profiles (light, normal, heavy)\n",
    "- **Visual Status Display**: Check phone status with a battery progress bar\n",
    "\n",
    "## 🎯 Learning Objectives\n",
    "\n",
    "This project serves as an educational tool for understanding:\n",
    "\n",
    "- **Classes & Objects**: How classes act as blueprints for creating objects\n",
    "- **Attributes**: Storing object state (battery, balance, data)\n",
    "- **Methods**: Defining object behaviors (charging, calling, browsing)\n",
    "- **Encapsulation**: Bundling data and methods that operate on that data\n",
    "- **Error Handling**: Validating operations and providing user feedback\n",
    "\n",
    "---\n",
    "\n",
    "## 🛠️ Implementation Details\n",
    "\n",
    "### Class Structure\n",
    "\n",
    "The `Phone` class contains:\n",
    "\n",
    "- **Attributes**: `owner`, `battery`, `balance`, `data_mb`\n",
    "- **Constants**: Configuration values for rates and usage profiles\n",
    "- **Methods**: Actions like `charge()`, `top_up()`, `buy_data()`, `call()`, `browse()`, and `status()`\n",
    "\n",
    "### Usage Profiles\n",
    "\n",
    "The simulator implements three browsing profiles with different resource consumption rates:\n",
    "\n",
    "| Profile | Data Usage (MB/min) | Battery Usage (%/min) | Typical Use Case |\n",
    "|---------|---------------------|-----------------------|------------------|\n",
    "| Light   | 2 MB                | 1%                    | Messaging, light apps |\n",
    "| Normal  | 5 MB                | 2%                    | Social media, web browsing |\n",
    "| Heavy   | 20 MB               | 4%                    | Video streaming, large downloads |\n",
    "\n",
    "### Economic Model\n",
    "\n",
    "- **Calls**: $1.00 per minute + 2% battery per minute\n",
    "- **Data**: $1.00 purchases 2 MB of data\n",
    "- **Charging**: 1% battery per minute when charging\n",
    "\n",
    "---\n",
    "\n",
    "## 💡 Usage Examples\n",
    "\n",
    "### Creating a Phone Instance\n",
    "\n",
    "```python\n",
    "# Create a phone with custom initial values\n",
    "my_phone = Phone(\"Zibah\", battery=45, balance=780, data_mb=3500)"
   ]
  },
  {
   "cell_type": "code",
   "execution_count": 4,
   "id": "037be7d1-67a9-4579-8df6-551f21ccd463",
   "metadata": {},
   "outputs": [],
   "source": [
    "# --- Phone Status Monitor Simulator (Enhanced Version) ---\n",
    "\n",
    "class Phone:\n",
    "    \"\"\"\n",
    "    A class representing a mobile phone with battery, balance, and data management capabilities.\n",
    "    \n",
    "    Attributes:\n",
    "        owner (str): The name of the phone's owner\n",
    "        battery (int): Battery level (0-100%)\n",
    "        balance (float): Account balance in dollars\n",
    "        data_mb (int): Available data in megabytes\n",
    "        \n",
    "    Constants:\n",
    "        CURRENCY (str): Currency symbol\n",
    "        DATA_MB_PER_DOLLAR (int): Data received per dollar\n",
    "        CALL_COST_PER_MIN (float): Cost per minute for calls\n",
    "        CALL_BATTERY_PER_MIN (int): Battery consumption per minute for calls\n",
    "        BROWSE_PROFILES (dict): Data and battery usage profiles for browsing\n",
    "        CHARGE_RATE_PER_MIN (float): Battery charge rate per minute\n",
    "    \"\"\"\n",
    "    \n",
    "    # ===== Configurable \"tariffs\" / rates =====\n",
    "    CURRENCY = \"$\"\n",
    "    DATA_MB_PER_DOLLAR = 2          # $1 -> 2 MB\n",
    "    CALL_COST_PER_MIN = 1.0         # $ per minute\n",
    "    CALL_BATTERY_PER_MIN = 2        # % battery per minute on call (fixed from 1 to 2)\n",
    "\n",
    "    # Browsing profiles: data + battery usage per minute\n",
    "    BROWSE_PROFILES = {\n",
    "        \"light\":  {\"mb_per_min\": 2,  \"battery_per_min\": 1},  # chats, light apps \n",
    "        \"normal\": {\"mb_per_min\": 5,  \"battery_per_min\": 2},  # social media \n",
    "        \"heavy\":  {\"mb_per_min\": 20, \"battery_per_min\": 4},  # streaming/video \n",
    "    }\n",
    "\n",
    "    CHARGE_RATE_PER_MIN = 1.0       # % battery per minute on charger\n",
    "\n",
    "    def __init__(self, owner, battery=50, balance=0.0, data_mb=0):\n",
    "        \"\"\"\n",
    "        Initialize a new Phone instance.\n",
    "        \n",
    "        Args:\n",
    "            owner (str): Name of the phone owner\n",
    "            battery (int, optional): Initial battery percentage. Defaults to 50.\n",
    "            balance (float, optional): Initial balance. Defaults to 0.0.\n",
    "            data_mb (int, optional): Initial data in MB. Defaults to 0.\n",
    "        \"\"\"\n",
    "        self.owner = owner\n",
    "        self.battery = max(0, min(100, int(battery)))    # 0–100, clamped\n",
    "        self.balance = max(0.0, float(balance))          # dollars, non-negative\n",
    "        self.data_mb = max(0, int(data_mb))              # megabytes, non-negative\n",
    "\n",
    "    # ===== Helper Methods =====\n",
    "    def _cap_battery(self):\n",
    "        \"\"\"Ensure battery stays within 0-100% range.\"\"\"\n",
    "        self.battery = max(0, min(100, int(self.battery)))\n",
    "\n",
    "    def _require(self, cond, msg):\n",
    "        \"\"\"\n",
    "        Check condition and print error message if condition fails.\n",
    "        \n",
    "        Args:\n",
    "            cond (bool): Condition to check\n",
    "            msg (str): Error message to display if condition fails\n",
    "            \n",
    "        Returns:\n",
    "            bool: True if condition passes, False otherwise\n",
    "        \"\"\"\n",
    "        if not cond:\n",
    "            print(f\"⚠️  {msg}\")\n",
    "            return False\n",
    "        return True\n",
    "\n",
    "    def _bar(self, value, max_value=100, width=20):\n",
    "        \"\"\"\n",
    "        Create a simple text progress bar.\n",
    "        \n",
    "        Args:\n",
    "            value (int): Current value\n",
    "            max_value (int, optional): Maximum value. Defaults to 100.\n",
    "            width (int, optional): Width of the bar. Defaults to 20.\n",
    "            \n",
    "        Returns:\n",
    "            str: Text representation of the progress bar\n",
    "        \"\"\"\n",
    "        filled = int(round((value / max_value) * width))\n",
    "        return \"[\" + \"█\" * filled + \"·\" * (width - filled) + \"]\"\n",
    "\n",
    "    # ===== Public Methods =====\n",
    "    def charge(self, minutes=None, percent=None):\n",
    "        \"\"\"\n",
    "        Charge the phone by time or by percentage.\n",
    "        \n",
    "        Args:\n",
    "            minutes (int, optional): Minutes to charge. Defaults to None.\n",
    "            percent (int, optional): Percentage points to charge. Defaults to None.\n",
    "            \n",
    "        Note:\n",
    "            Only one of minutes or percent should be provided.\n",
    "        \"\"\"\n",
    "        if minutes is not None and percent is not None:\n",
    "            print(\"⚠️  Please provide either minutes or percent, not both.\")\n",
    "            return\n",
    "            \n",
    "        if minutes is not None:\n",
    "            if not self._require(minutes > 0, \"Charge minutes must be > 0.\"):\n",
    "                return\n",
    "            self.battery += minutes * self.CHARGE_RATE_PER_MIN\n",
    "            print(f\"🔌 Charging for {minutes} minutes...\")\n",
    "        elif percent is not None:\n",
    "            if not self._require(percent > 0, \"Charge percent must be > 0.\"):\n",
    "                return\n",
    "            self.battery += percent\n",
    "            print(f\"🔌 Charging by {percent}%...\")\n",
    "        else:\n",
    "            print(\"⚠️  Provide either minutes= or percent= to charge().\")\n",
    "            return\n",
    "            \n",
    "        self._cap_battery()\n",
    "        print(f\"Battery: {self.battery}% {self._bar(self.battery)}\")\n",
    "\n",
    "    def top_up(self, amount):\n",
    "        \"\"\"\n",
    "        Add balance to the phone account.\n",
    "        \n",
    "        Args:\n",
    "            amount (float): Amount to add to balance\n",
    "        \"\"\"\n",
    "        if not self._require(amount > 0, \"Top-up amount must be > 0.\"):\n",
    "            return\n",
    "        self.balance += amount\n",
    "        print(f\"💳 Topped up {self.CURRENCY}{amount:.2f}. Balance: {self.CURRENCY}{self.balance:.2f}\")\n",
    "\n",
    "    def buy_data(self, dollars):\n",
    "        \"\"\"\n",
    "        Purchase data using account balance.\n",
    "        \n",
    "        Args:\n",
    "            dollars (float): Amount to spend on data\n",
    "        \"\"\"\n",
    "        if not self._require(dollars > 0, \"Purchase must be > 0.\"):\n",
    "            return\n",
    "        if not self._require(dollars <= self.balance, \"Not enough balance to buy data.\"):\n",
    "            return\n",
    "            \n",
    "        self.balance -= dollars\n",
    "        gained = int(dollars * self.DATA_MB_PER_DOLLAR)\n",
    "        self.data_mb += gained\n",
    "        print(f\"📶 Bought {gained}MB. Data: {self.data_mb}MB | Balance: {self.CURRENCY}{self.balance:.2f}\")\n",
    "\n",
    "    def call(self, minutes):\n",
    "        \"\"\"\n",
    "        Make a phone call.\n",
    "        \n",
    "        Args:\n",
    "            minutes (float): Duration of the call in minutes\n",
    "        \"\"\"\n",
    "        if not self._require(minutes > 0, \"Call minutes must be > 0.\"):\n",
    "            return\n",
    "            \n",
    "        cost = minutes * self.CALL_COST_PER_MIN\n",
    "        battery_use = minutes * self.CALL_BATTERY_PER_MIN\n",
    "\n",
    "        if not self._require(cost <= self.balance, \"Call failed: not enough balance.\"):\n",
    "            return\n",
    "        if not self._require(battery_use <= self.battery, \"Call failed: low battery.\"):\n",
    "            return\n",
    "\n",
    "        self.balance -= cost\n",
    "        self.battery -= battery_use\n",
    "        self._cap_battery()\n",
    "        print(f\"📞 Called {minutes} min. \"\n",
    "              f\"Balance: {self.CURRENCY}{self.balance:.2f} | Battery: {self.battery}% {self._bar(self.battery)}\")\n",
    "\n",
    "    def browse(self, minutes, profile=\"normal\"):\n",
    "        \"\"\"\n",
    "        Browse the internet with a specified usage profile.\n",
    "        \n",
    "        Args:\n",
    "            minutes (float): Duration of browsing in minutes\n",
    "            profile (str, optional): Usage profile. Defaults to \"normal\".\n",
    "        \"\"\"\n",
    "        if not self._require(minutes > 0, \"Browse minutes must be > 0.\"):\n",
    "            return\n",
    "        if profile not in self.BROWSE_PROFILES:\n",
    "            print(f\"⚠️  Unknown profile '{profile}'. Use one of: {list(self.BROWSE_PROFILES)}\")\n",
    "            return\n",
    "\n",
    "        mb_per_min = self.BROWSE_PROFILES[profile][\"mb_per_min\"]\n",
    "        batt_per_min = self.BROWSE_PROFILES[profile][\"battery_per_min\"]\n",
    "\n",
    "        need_mb = minutes * mb_per_min\n",
    "        need_batt = minutes * batt_per_min\n",
    "\n",
    "        if not self._require(need_mb <= self.data_mb, \"Browse failed: not enough data.\"):\n",
    "            return\n",
    "        if not self._require(need_batt <= self.battery, \"Browse failed: low battery.\"):\n",
    "            return\n",
    "\n",
    "        self.data_mb -= need_mb\n",
    "        self.battery -= need_batt\n",
    "        self._cap_battery()\n",
    "        print(f\"🌐 Browsed {minutes} min ({profile}). \"\n",
    "              f\"Used {need_mb}MB, {need_batt}% battery. \"\n",
    "              f\"Data: {self.data_mb}MB | Battery: {self.battery}% {self._bar(self.battery)}\")\n",
    "\n",
    "    def status(self):\n",
    "        \"\"\"Display the current status of the phone.\"\"\"\n",
    "        print(\n",
    "            f\"📱 {self.owner}'s Phone\\n\"\n",
    "            f\"   Battery: {self.battery}% {self._bar(self.battery)}\\n\"\n",
    "            f\"   Balance: {self.CURRENCY}{self.balance:.2f}\\n\"\n",
    "            f\"   Data:    {self.data_mb}MB\"\n",
    "        )"
   ]
  },
  {
   "cell_type": "code",
   "execution_count": null,
   "id": "1e6a4b13-1d5d-4623-981e-80af79a3937c",
   "metadata": {},
   "outputs": [],
   "source": []
  },
  {
   "cell_type": "markdown",
   "id": "eb7a3b88-8d60-4637-bb0d-055cf7b8d860",
   "metadata": {},
   "source": [
    "## 📱 Functionalities of the `Phone` Class\n",
    "\n",
    "The `Phone` class simulates a mobile phone with the following functionalities:\n",
    "\n",
    "- **Status**\n",
    "  - Display the current phone state: battery %, balance ($), and data (MB).\n",
    "  - Includes a simple battery progress bar.\n",
    "\n",
    "- **Charge**\n",
    "  - Charge the phone by **minutes** (realistic charging).\n",
    "  - Optionally charge by **percentage**.\n",
    "  - Battery is capped between 0% and 100%.\n",
    "\n",
    "- **Top Up**\n",
    "  - Add balance in **dollars ($)**.\n",
    "\n",
    "- **Buy Data**\n",
    "  - Use balance to purchase data bundles.\n",
    "  - Conversion rate: **$1 → 2 MB** (default).\n",
    "\n",
    "- **Call**\n",
    "  - Make calls for a given number of minutes.\n",
    "  - Reduces **balance** ($1 per minute).\n",
    "  - Consumes **battery** (2% per minute).\n",
    "  - Fails if balance or battery is insufficient.\n",
    "\n",
    "- **Browse**\n",
    "  - Browse online for a given duration (minutes).\n",
    "  - Choose a **profile**:  \n",
    "    - *Light* → 2 MB/min, 1% battery/min  \n",
    "    - *Normal* → 5 MB/min, 2% battery/min  \n",
    "    - *Heavy* → 20 MB/min, 4% battery/min  \n",
    "  - Reduces **data** and **battery** accordingly.\n",
    "  - Fails if data or battery is insufficient.\n"
   ]
  },
  {
   "cell_type": "markdown",
   "id": "e01eb95a-9695-46c5-872e-effb29795841",
   "metadata": {},
   "source": [
    "## 📱 Functionalities of the `Phone` Class and How to Call Them\n",
    "\n",
    "### 1. Check Status\n",
    "See the phone’s current battery, balance, and data.\n",
    "\n",
    "```python\n",
    "my_phone.status()\n",
    "```\n",
    "\n",
    "### 2. Charge the Phone\n",
    "\n",
    "Increase the battery (capped at 100%).\n",
    "\n",
    "- By minutes (realistic charging):\n",
    "\n",
    "```python\n",
    "my_phone.charge(minutes=20)\n",
    "```\n",
    "\n",
    "```python\n",
    "my_phone.charge(percent=30)\n",
    "```\n",
    "\n",
    "### 3. Top Up Balance\n",
    "\n",
    "Add money (in dollars) to your balance.\n",
    "```python\n",
    "my_phone.top_up(10)   # adds $10\n",
    "```\n",
    "\n",
    "\n",
    "### 4. Buy Data\n",
    "\n",
    "Use balance to buy data bundles.\n",
    "\n",
    "Rate: $1 → 2 MB\n",
    "```python\n",
    "my_phone.buy_data(5)   # uses $5 → adds 10MB\n",
    "```\n",
    "\n",
    "### 5. Make a Call\n",
    "\n",
    "Spend balance and battery based on call duration.\n",
    "\n",
    "- Cost: $1 per minute\n",
    "\n",
    "- Battery: 2% per minute\n",
    "\n",
    "```python\n",
    "my_phone.call(3)   # 3-minute call → costs $3, uses 6% battery\n",
    "```\n",
    "\n",
    "### 6. Browse the Internet\n",
    "\n",
    "Use data and battery for a set duration (minutes).\n",
    "\n",
    "Choose a profile: \"light\", \"normal\", \"heavy\"\n",
    "\n",
    "- Light → 2 MB/min, 1% battery/min\n",
    "\n",
    "- Normal → 5 MB/min, 2% battery/min\n",
    "\n",
    "- Heavy → 20 MB/min, 4% battery/min\n",
    "\n",
    "```python\n",
    "my_phone.browse(10, profile=\"normal\")   # 10 min normal browsing\n",
    "my_phone.browse(5, profile=\"heavy\")     # 5 min heavy browsing\n",
    "```"
   ]
  },
  {
   "cell_type": "code",
   "execution_count": 7,
   "id": "3d35f60c-15e9-44dc-acbd-ebd24fa8f888",
   "metadata": {},
   "outputs": [],
   "source": [
    "# Create a phone with custom initial values\n",
    "my_phone = Phone(\"Zibah\", battery=45, balance=780, data_mb=3500)"
   ]
  },
  {
   "cell_type": "code",
   "execution_count": 8,
   "id": "e6073be1-0d74-4053-8246-d71a758d6e01",
   "metadata": {},
   "outputs": [
    {
     "name": "stdout",
     "output_type": "stream",
     "text": [
      "📱 Zibah's Phone\n",
      "   Battery: 45% [█████████···········]\n",
      "   Balance: $780.00\n",
      "   Data:    3500MB\n"
     ]
    }
   ],
   "source": [
    "# Display current phone status\n",
    "my_phone.status()"
   ]
  },
  {
   "cell_type": "code",
   "execution_count": 9,
   "id": "6cf690e2-59c4-4025-b0fd-27c6a98e3e34",
   "metadata": {},
   "outputs": [
    {
     "name": "stdout",
     "output_type": "stream",
     "text": [
      "📶 Bought 20MB. Data: 3520MB | Balance: $770.00\n"
     ]
    }
   ],
   "source": [
    "my_phone.buy_data(10)"
   ]
  },
  {
   "cell_type": "code",
   "execution_count": 11,
   "id": "aaf1a394-3fa8-4bab-8b60-84ae280f93f6",
   "metadata": {},
   "outputs": [
    {
     "name": "stdout",
     "output_type": "stream",
     "text": [
      "📞 Called 4 min. Balance: $766.00 | Battery: 37% [███████·············]\n"
     ]
    }
   ],
   "source": [
    "my_phone.call(4)"
   ]
  },
  {
   "cell_type": "code",
   "execution_count": 12,
   "id": "c6e62335-32c1-4534-8a16-c95d8a6e11a1",
   "metadata": {},
   "outputs": [
    {
     "name": "stdout",
     "output_type": "stream",
     "text": [
      "📱 Zibah's Phone\n",
      "   Battery: 37% [███████·············]\n",
      "   Balance: $766.00\n",
      "   Data:    3520MB\n"
     ]
    }
   ],
   "source": [
    "my_phone.status()"
   ]
  },
  {
   "cell_type": "code",
   "execution_count": 13,
   "id": "bdec1723-4487-47d8-9013-1af61d14c05c",
   "metadata": {},
   "outputs": [
    {
     "name": "stdout",
     "output_type": "stream",
     "text": [
      "🌐 Browsed 6 min (heavy). Used 120MB, 24% battery. Data: 3400MB | Battery: 13% [███·················]\n"
     ]
    }
   ],
   "source": [
    "my_phone.browse(6, profile=\"heavy\") "
   ]
  },
  {
   "cell_type": "code",
   "execution_count": 15,
   "id": "2c9f841d-a1c1-4c3c-b0e4-1d874e3169d7",
   "metadata": {},
   "outputs": [
    {
     "name": "stdout",
     "output_type": "stream",
     "text": [
      "🔌 Charging for 20 minutes...\n",
      "Battery: 53% [███████████·········]\n",
      "🔌 Charging by 30%...\n",
      "Battery: 83% [█████████████████···]\n"
     ]
    }
   ],
   "source": [
    "# Charge by time (minutes)\n",
    "my_phone.charge(minutes=20)\n",
    "\n",
    "# Charge by percentage\n",
    "my_phone.charge(percent=30)"
   ]
  },
  {
   "cell_type": "code",
   "execution_count": 18,
   "id": "a79861ce-9608-4e46-a28b-01f664054cfd",
   "metadata": {},
   "outputs": [
    {
     "name": "stdout",
     "output_type": "stream",
     "text": [
      "💳 Topped up $10.00. Balance: $776.00\n"
     ]
    }
   ],
   "source": [
    "# Top up account balance\n",
    "my_phone.top_up(10)  # Adds $10 to balance"
   ]
  },
  {
   "cell_type": "code",
   "execution_count": 19,
   "id": "47d3820c-6c05-40a4-a0a9-951eb8a5fbd2",
   "metadata": {},
   "outputs": [
    {
     "name": "stdout",
     "output_type": "stream",
     "text": [
      "📱 Zibah's Phone\n",
      "   Battery: 83% [█████████████████···]\n",
      "   Balance: $776.00\n",
      "   Data:    3400MB\n"
     ]
    }
   ],
   "source": [
    "my_phone.status()"
   ]
  },
  {
   "cell_type": "code",
   "execution_count": 20,
   "id": "e1fbba86-7f9e-4da4-a4cc-8bb2dfe1ffb8",
   "metadata": {},
   "outputs": [
    {
     "name": "stdout",
     "output_type": "stream",
     "text": [
      "📶 Bought 10MB. Data: 3410MB | Balance: $771.00\n"
     ]
    }
   ],
   "source": [
    "# Buy data bundles\n",
    "my_phone.buy_data(5)  # Uses $5 to purchase 10MB of data"
   ]
  },
  {
   "cell_type": "code",
   "execution_count": 21,
   "id": "15976351-1303-4abe-8124-875b5c3a0a68",
   "metadata": {},
   "outputs": [
    {
     "name": "stdout",
     "output_type": "stream",
     "text": [
      "📞 Called 3 min. Balance: $768.00 | Battery: 77% [███████████████·····]\n"
     ]
    }
   ],
   "source": [
    "# Make a phone call\n",
    "my_phone.call(3)  # 3-minute call costing $3 and 6% battery"
   ]
  },
  {
   "cell_type": "code",
   "execution_count": 22,
   "id": "b7599e7d-4cf5-4cde-a6f9-af67480d2fe0",
   "metadata": {},
   "outputs": [
    {
     "name": "stdout",
     "output_type": "stream",
     "text": [
      "🌐 Browsed 10 min (normal). Used 50MB, 20% battery. Data: 3360MB | Battery: 57% [███████████·········]\n",
      "🌐 Browsed 5 min (heavy). Used 100MB, 20% battery. Data: 3260MB | Battery: 37% [███████·············]\n"
     ]
    }
   ],
   "source": [
    "# Browse with different profiles\n",
    "my_phone.browse(10, profile=\"normal\")  # 10 minutes of normal browsing\n",
    "my_phone.browse(5, profile=\"heavy\")    # 5 minutes of heavy browsing"
   ]
  },
  {
   "cell_type": "code",
   "execution_count": null,
   "id": "3fd1e5a7-f0db-4b24-8ee5-34037e1d1b1a",
   "metadata": {},
   "outputs": [],
   "source": []
  },
  {
   "cell_type": "code",
   "execution_count": null,
   "id": "0018633e-7f63-42d7-9176-458f8441c46e",
   "metadata": {},
   "outputs": [],
   "source": []
  },
  {
   "cell_type": "markdown",
   "id": "d11cea64-e900-4579-8a04-eeda58aad772",
   "metadata": {},
   "source": [
    "for Readme.Md on Github"
   ]
  },
  {
   "cell_type": "markdown",
   "id": "1bfe5785-061f-48c8-b332-cc73b9237946",
   "metadata": {},
   "source": [
    "# 📱 Phone Status Monitor Simulator  \n",
    "\n",
    "A simple **Python OOP project** that simulates the behavior of a mobile phone.  \n",
    "The simulator keeps track of your phone’s **battery, balance, and data**, and lets you perform everyday actions like charging, topping up, making calls, and browsing.  \n",
    "\n",
    "---\n",
    "\n",
    "## 🔑 Features  \n",
    "- **Battery Monitoring** → charge the phone by time or by percent.  \n",
    "- **Balance Tracking** → top up in dollars and use it for calls or data.  \n",
    "- **Data Management** → buy data bundles with your balance.  \n",
    "- **Call Simulation** → make calls that reduce balance and battery.  \n",
    "- **Browsing Simulation** → browse the internet based on duration and usage profile:  \n",
    "  - *Light* (chatting, light apps)  \n",
    "  - *Normal* (social media)  \n",
    "  - *Heavy* (video streaming)  \n",
    "- **Status Display** → check the phone’s current state with a simple battery bar.  \n",
    "\n",
    "---\n",
    "\n",
    "## 🎯 Learning Goals  \n",
    "This project is designed for **beginners learning OOP in Python**.  \n",
    "It demonstrates how:  \n",
    "- **Classes** act as blueprints.  \n",
    "- **Objects** represent real things (your phone).  \n",
    "- **Attributes** store state (battery, balance, data).  \n",
    "- **Methods** define actions (charge, call, browse).  \n",
    "\n",
    "---\n",
    "\n"
   ]
  },
  {
   "cell_type": "code",
   "execution_count": null,
   "id": "243b10b8-c7ba-4bd6-805b-4aa7dd4f44c7",
   "metadata": {},
   "outputs": [],
   "source": []
  }
 ],
 "metadata": {
  "kernelspec": {
   "display_name": "Python 3 (ipykernel)",
   "language": "python",
   "name": "python3"
  },
  "language_info": {
   "codemirror_mode": {
    "name": "ipython",
    "version": 3
   },
   "file_extension": ".py",
   "mimetype": "text/x-python",
   "name": "python",
   "nbconvert_exporter": "python",
   "pygments_lexer": "ipython3",
   "version": "3.12.11"
  }
 },
 "nbformat": 4,
 "nbformat_minor": 5
}
